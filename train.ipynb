{
 "cells": [
  {
   "cell_type": "markdown",
   "source": [
    "# Train the neural network\r\n",
    "In this paper, the [YOLOv3](https://arxiv.org/abs/1804.02767) neural network is used for fish detection. The implementation from [Ultralytics](https://github.com/ultralytics/yolov3) in Pytorch was for us the most conventient to use.\r\n",
    "\r\n",
    "## Setup GPU\r\n",
    "When using Google Colab, setup the hardware accelerator to use a GPU by:\r\n",
    "\r\n",
    "**Edit** > **Notebook settings** > **Hardware accelerator**.\r\n",
    "\r\n",
    "![Change Colab to use GPU](colab_gpu.png)\r\n",
    "\r\n",
    "## Install software\r\n",
    "To install the software on your own computer, follow the steps provided in the [readme](https://github.com/Rick-v-E/automatic_discard_registration/blob/master/README.md). If running on Google Colab, clone the GIT repository and install it's dependencies:"
   ],
   "metadata": {}
  },
  {
   "cell_type": "code",
   "execution_count": null,
   "source": [
    "%%shell\r\n",
    "\r\n",
    "# Check if the repository is already available, if not, clone and install\r\n",
    "if [ ! -d .git ]\r\n",
    "then\r\n",
    "  git clone https://github.com/Rick-v-E/automatic_discard_registration.git\r\n",
    "  pip install -r automatic_discard_registration/requirements.txt\r\n",
    "  pip install -r automatic_discard_registration/detection/yolov3/requirements.txt\r\n",
    "  pip install automatic_discard_registration/detection/apex\r\n",
    "  pip install gdown\r\n",
    "else\r\n",
    "  git pull\r\n",
    "fi"
   ],
   "outputs": [],
   "metadata": {}
  },
  {
   "cell_type": "markdown",
   "source": [
    "If you installed the software in the previous step, enter the repository:"
   ],
   "metadata": {}
  },
  {
   "cell_type": "code",
   "execution_count": null,
   "source": [
    "%cd automatic_discard_registration"
   ],
   "outputs": [],
   "metadata": {}
  },
  {
   "cell_type": "markdown",
   "source": [
    "## Setup dataset\r\n",
    "The complete dataset can be downloaded from [4TU.ResearchData](https://doi.org/10.4121/16622566.v1). To use this dataset, extract both `fdf_images.zip` and `results.zip` in the [data](https://github.com/Rick-v-E/automatic_discard_registration/tree/master/data) folder.\r\n",
    "\r\n",
    "For use on Google Colab, we have created a smaller subset of the data. This dataset contains only part of the images of the complete dataset, but contains all result from the complete dataset.\r\n",
    "\r\n",
    "---\r\n",
    "**IMPORTANT**\r\n",
    "\r\n",
    "Execute only one of the three cells below! Each cell contains a method to import the data, if one method fails, use another method. If the method succeed, go to the next section in this notebook.\r\n",
    "\r\n",
    "---\r\n",
    "\r\n",
    "**METHOD 1** Download and extract the sample dataset (this will take around 5-10 minutes):"
   ],
   "metadata": {}
  },
  {
   "cell_type": "code",
   "execution_count": null,
   "source": [
    "!gdown --id 1TcyeeX0UjhWldbjhLkCRJIuktDNeAMJJ\r\n",
    "!unzip -q fdf_sample_dataset.zip -d data\r\n",
    "!rm fdf_sample_dataset.zip"
   ],
   "outputs": [],
   "metadata": {}
  },
  {
   "cell_type": "markdown",
   "source": [
    "**METHOD 2** Download the [sample dataset](https://drive.google.com/file/d/1TcyeeX0UjhWldbjhLkCRJIuktDNeAMJJ/view?usp=sharing) manually and upload it to Google Colab in the `automatic_discard_registration` opening the files tab and right click on the folder name:\r\n",
    "\r\n",
    "![Manual upload image](colab_manual_upload.png)\r\n",
    "\r\n",
    "After uploading, extract the dataset:"
   ],
   "metadata": {}
  },
  {
   "cell_type": "code",
   "execution_count": null,
   "source": [
    "!unzip -q fdf_sample_dataset.zip -d data\r\n",
    "!rm fdf_sample_dataset.zip"
   ],
   "outputs": [],
   "metadata": {}
  },
  {
   "cell_type": "markdown",
   "source": [
    "**METHOD 3** Download the [sample dataset](https://drive.google.com/file/d/1TcyeeX0UjhWldbjhLkCRJIuktDNeAMJJ/view?usp=sharing) and upload it to your personal Google Drive account. Connect this account to Google Colab:"
   ],
   "metadata": {}
  },
  {
   "cell_type": "code",
   "execution_count": null,
   "source": [
    "from google.colab import drive\r\n",
    "drive.mount('/content/drive')\r\n",
    "\r\n",
    "!unzip -q ../drive/MyDrive/fdf_sample_dataset.zip -d data"
   ],
   "outputs": [],
   "metadata": {}
  },
  {
   "cell_type": "markdown",
   "source": [
    "Check if the dataset is loaded correctly:"
   ],
   "metadata": {}
  },
  {
   "cell_type": "code",
   "execution_count": null,
   "source": [
    "from pathlib import Path\r\n",
    "\r\n",
    "DATA_PATH = Path(\"data\")\r\n",
    "NEEDED_FOLDERS = [\"fdf_images\", \"results\"]\r\n",
    "\r\n",
    "# Check if all folders are correct\r\n",
    "if not all([(DATA_PATH / f).is_dir() for f in NEEDED_FOLDERS]):\r\n",
    "    print(\"Could not find all data folders! Did you extract both fdf_images.zip and results.zip in the data folder?\")"
   ],
   "outputs": [],
   "metadata": {}
  },
  {
   "cell_type": "markdown",
   "source": [
    "To get the same results as in the paper, use the complete dataset. Upload the dataset to your Google Drive and [mount](https://towardsdatascience.com/downloading-datasets-into-google-drive-via-google-colab-bcb1b30b0166) this folder to your Google Colab environment. "
   ],
   "metadata": {}
  },
  {
   "cell_type": "markdown",
   "source": [
    "## Setup training notebook\r\n",
    "Start by importing the dependencies:"
   ],
   "metadata": {}
  },
  {
   "cell_type": "code",
   "execution_count": null,
   "source": [
    "%load_ext tensorboard\r\n",
    "%matplotlib inline\r\n",
    "\r\n",
    "import math\r\n",
    "import torch\r\n",
    "import warnings\r\n",
    "\r\n",
    "from pathlib import Path\r\n",
    "from matplotlib import pyplot as plt\r\n",
    "\r\n",
    "from detection import setup_paths\r\n",
    "from detection.train import train\r\n",
    "from detection.data_loader import FDFLoader\r\n",
    "\r\n",
    "from common.nb_utils import show_random_image\r\n",
    "from detection.yolov3.models import attempt_download\r\n",
    "from detection.yolov3.utils.utils import load_classes\r\n",
    "\r\n",
    "warnings.filterwarnings(\"ignore\", category=UserWarning)"
   ],
   "outputs": [],
   "metadata": {}
  },
  {
   "cell_type": "markdown",
   "source": [
    "Check if we have a GPU available:"
   ],
   "metadata": {}
  },
  {
   "cell_type": "code",
   "execution_count": null,
   "source": [
    "if not torch.cuda.is_available():\r\n",
    "    print(\"No GPU device found! If you are working on Google Colab, make sure that you select the GPU hardware accelerator in the notebook settings.\")"
   ],
   "outputs": [],
   "metadata": {}
  },
  {
   "cell_type": "markdown",
   "source": [
    "## Setup all model parameters\n",
    "Now, define all the model parameters. There are hyperparameters for the model and configuration parameters:"
   ],
   "metadata": {}
  },
  {
   "cell_type": "code",
   "execution_count": null,
   "source": [
    "hyp = {\r\n",
    "    \"giou\": 3.54,  # giou loss gain\r\n",
    "    \"cls\": 37.4,  # cls loss gain\r\n",
    "    \"cls_pw\": 1.0,  # cls BCELoss positive_weight\r\n",
    "    \"obj\": 64.3,  # obj loss gain (*=img_size/320 if img_size != 320)\r\n",
    "    \"obj_pw\": 1.0,  # obj BCELoss positive_weight\r\n",
    "    \"iou_t\": 0.20,  # iou training threshold\r\n",
    "    \"lr0\": 0.01,  # initial learning rate (SGD=5E-3, Adam=5E-4)\r\n",
    "    \"lrf\": 0.0005,  # final learning rate (with cos scheduler)\r\n",
    "    \"momentum\": 0.937,  # SGD momentum\r\n",
    "    \"weight_decay\": 0.0005,  # optimizer weight decay\r\n",
    "    \"fl_gamma\": 0.0,  # focal loss gamma (efficientDet default is gamma=1.5)\r\n",
    "    \"hsv_h\": 0.0138,  # image HSV-Hue augmentation (fraction)\r\n",
    "    \"hsv_s\": 0.678,  # image HSV-Saturation augmentation (fraction)\r\n",
    "    \"hsv_v\": 0.36,  # image HSV-Value augmentation (fraction)\r\n",
    "    \"degrees\": 1.98 * 0,  # image rotation (+/- deg)\r\n",
    "    \"translate\": 0.05 * 0,  # image translation (+/- fraction)\r\n",
    "    \"scale\": 0.05 * 0,  # image scale (+/- gain)\r\n",
    "    \"shear\": 0.641 * 0,\r\n",
    "} \r\n",
    "\r\n",
    "opt = {\r\n",
    "    \"epochs\": 100,  # Number of epochs. We did 800 epochs on complete dataset\r\n",
    "    \"batch_size\": 8, \r\n",
    "    \"multi_scale\": False,  # adjust (67%% - 150%%) img_size every 10 batches\r\n",
    "    \"img_size\": [320, 640, 416],  # [min-train, max-train, test] image size\r\n",
    "    \"rect\": False,  # rectangular training\r\n",
    "    \"resume\": False,  # resume traning from last.pt\r\n",
    "    \"nosave\": False,  # only save final epoch\r\n",
    "    \"notest\": False,  # only test final epoch\r\n",
    "    \"evolve\": False,  # evolve hyperparameters\r\n",
    "    \"bucket\": \"\",  # gsutil bucket\r\n",
    "    \"cache_images\": False,  # cache images for faster training\r\n",
    "    \"name\": \"\",  # renames results.txt to results_name.txt if supplied\r\n",
    "    \"adam\": False,  # use adam optimizer\r\n",
    "    \"single_cls\": False,  # train as single-class dataset\r\n",
    "    \"freeze_layers\": False,  # freeze non-output layers,\r\n",
    "    \"name\": \"FDF_training\",    \r\n",
    "    \"device\": \"\",\r\n",
    "}"
   ],
   "outputs": [],
   "metadata": {}
  },
  {
   "cell_type": "markdown",
   "source": [
    "## Load the dataset\n",
    "Now, load the dataset from the data folder. First, load the folders as variables:"
   ],
   "metadata": {}
  },
  {
   "cell_type": "code",
   "execution_count": null,
   "source": [
    "data_folder = Path(\"data\")\r\n",
    "weights_folder = data_folder / \"results/model_weights\"\r\n",
    "dataset_folder = data_folder / \"fdf_images\"\r\n",
    "\r\n",
    "# Define files\r\n",
    "paths = {\r\n",
    "    \"weights_folder\": data_folder,\r\n",
    "    \"start_weights_file\": weights_folder / \"yolov3-spp-ultralytics.pt\",\r\n",
    "    \"best_weights_file\": data_folder / \"best.pt\",\r\n",
    "    \"last_weights_file\": data_folder / \"last.pt\",\r\n",
    "    \"results_file\": data_folder / \"training_results.txt\",\r\n",
    "    \"cfg_file\": Path(\"detection\") / \"yolov3-spp-fdf.cfg\",\r\n",
    "    \"names_file\": Path(\"detection\") / \"fish_classes.names\",\r\n",
    "}\r\n",
    "\r\n",
    "# Create folder if not exists\r\n",
    "weights_folder.mkdir(parents=True, exist_ok=True)\r\n",
    "\r\n",
    "# Check if files exists\r\n",
    "assert paths[\"cfg_file\"].is_file()\r\n",
    "assert paths[\"names_file\"].is_file()\r\n",
    "assert dataset_folder.is_dir()"
   ],
   "outputs": [],
   "metadata": {}
  },
  {
   "cell_type": "markdown",
   "source": [
    "Try to download the pre-trained weights file from [Ultralytics](https://drive.google.com/drive/folders/1LezFG5g3BCW6iYaV89B2i64cqEUZD7e0). If this does not work, try to install `curl`:\n",
    "\n",
    "`sudo apt-get install curl`"
   ],
   "metadata": {}
  },
  {
   "cell_type": "code",
   "execution_count": null,
   "source": [
    "attempt_download(str(paths[\"start_weights_file\"]))"
   ],
   "outputs": [],
   "metadata": {}
  },
  {
   "cell_type": "markdown",
   "source": [
    "Load the image classes:"
   ],
   "metadata": {}
  },
  {
   "cell_type": "code",
   "execution_count": null,
   "source": [
    "classes = load_classes(paths[\"names_file\"])\r\n",
    "print(classes)"
   ],
   "outputs": [],
   "metadata": {}
  },
  {
   "cell_type": "markdown",
   "source": [
    "Now, we can load the dataset images and annotations. Since we are using a custom annotation format (containing addional information like fish orientation, occlusion and an unique id), we use our custom dataloader:"
   ],
   "metadata": {}
  },
  {
   "cell_type": "code",
   "execution_count": null,
   "source": [
    "# Check and recalculate image size\r\n",
    "imgsz_min, imgsz_max, imgsz_test = opt[\"img_size\"] \r\n",
    "\r\n",
    "# Image Sizes\r\n",
    "gs = 32  # (pixels) grid size\r\n",
    "assert math.fmod(imgsz_min, gs) == 0, \"--img-size %g must be a %g-multiple\" % (imgsz_min, gs)\r\n",
    "opt[\"multi_scale\"] |= imgsz_min != imgsz_max  # multi if different (min, max)\r\n",
    "if opt[\"multi_scale\"]:\r\n",
    "    if imgsz_min == imgsz_max:\r\n",
    "        imgsz_min //= 1.5\r\n",
    "        imgsz_max //= 0.667\r\n",
    "    grid_min, grid_max = imgsz_min // gs, imgsz_max // gs\r\n",
    "    imgsz_min, imgsz_max = int(grid_min * gs), int(grid_max * gs)\r\n",
    "img_size = imgsz_max \r\n",
    "\r\n",
    "train_dataset = FDFLoader(\r\n",
    "    dataset_folder,\r\n",
    "    classes,\r\n",
    "    subset_name=\"train\",\r\n",
    "    img_size=img_size,\r\n",
    "    batch_size=opt[\"batch_size\"],\r\n",
    "    augment=True,\r\n",
    "    hyp=hyp,\r\n",
    "    rect=opt[\"rect\"],\r\n",
    "    cache_images=opt[\"cache_images\"],\r\n",
    "    single_cls=opt[\"single_cls\"],\r\n",
    ")\r\n",
    "test_dataset = FDFLoader(\r\n",
    "    dataset_folder,\r\n",
    "    classes,\r\n",
    "    subset_name=\"validation\",\r\n",
    "    img_size=imgsz_test,\r\n",
    "    batch_size=min(opt[\"batch_size\"], len(train_dataset)),\r\n",
    "    hyp=hyp,\r\n",
    "    rect=True,\r\n",
    "    cache_images=opt[\"cache_images\"],\r\n",
    "    single_cls=opt[\"single_cls\"],\r\n",
    ")"
   ],
   "outputs": [],
   "metadata": {
    "tags": []
   }
  },
  {
   "cell_type": "markdown",
   "source": [
    "Now, show an random training and testing image with annotations to make sure that we have loaded the dataset correctly:"
   ],
   "metadata": {}
  },
  {
   "cell_type": "code",
   "execution_count": null,
   "source": [
    "f, axarr = plt.subplots(1, 2, figsize=(20,20))\r\n",
    "show_random_image(train_dataset, axarr[0], classes)\r\n",
    "show_random_image(test_dataset, axarr[1], classes)\r\n",
    "plt.show()"
   ],
   "outputs": [],
   "metadata": {}
  },
  {
   "cell_type": "markdown",
   "source": [
    "## Train the model\n",
    "First step is to launch Tensorboard:"
   ],
   "metadata": {}
  },
  {
   "cell_type": "code",
   "execution_count": null,
   "source": [
    "print('Start Tensorboard with \"tensorboard --logdir=data/runs --bind_all\", view at http://localhost:6006/')\r\n",
    "tb = torch.utils.tensorboard.SummaryWriter(comment=opt[\"name\"], log_dir=\"data/runs/{}\".format(opt[\"name\"]))\r\n",
    "%tensorboard --logdir data/runs/FDF_training"
   ],
   "outputs": [],
   "metadata": {}
  },
  {
   "cell_type": "markdown",
   "source": [
    "Start the training:"
   ],
   "metadata": {}
  },
  {
   "cell_type": "code",
   "execution_count": null,
   "source": [
    "train(train_dataset, test_dataset, paths, hyp, opt, tb_writer=tb)"
   ],
   "outputs": [],
   "metadata": {}
  },
  {
   "cell_type": "markdown",
   "source": [
    "The best epoch was selected using the accuracy. The corresponding weights are saved in `data/best.pt`. For the next notebooks, we are using the weights trained on the complete dataset."
   ],
   "metadata": {}
  }
 ],
 "metadata": {
  "orig_nbformat": 4,
  "language_info": {
   "name": "python",
   "version": "3.8.10",
   "mimetype": "text/x-python",
   "codemirror_mode": {
    "name": "ipython",
    "version": 3
   },
   "pygments_lexer": "ipython3",
   "nbconvert_exporter": "python",
   "file_extension": ".py"
  },
  "kernelspec": {
   "name": "python3",
   "display_name": "Python 3.8.10 64-bit ('venv': venv)"
  },
  "interpreter": {
   "hash": "9756859299261392d218088cb417af53d94c7bf0c66d0aa80032af89e52b4e36"
  }
 },
 "nbformat": 4,
 "nbformat_minor": 2
}