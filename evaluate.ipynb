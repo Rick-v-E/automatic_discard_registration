{
 "cells": [
  {
   "cell_type": "markdown",
   "source": [
    "# Evaluate detection and tracking\r\n",
    "This script evaluates the fish detection and tracking.\r\n",
    "\r\n",
    "## Install software\r\n",
    "To install the software on your own computer, follow the steps provided in the [readme](https://github.com/Rick-v-E/automatic_discard_registration/blob/master/README.md). If running on Google Colab, clone the GIT repository and install it's dependencies:"
   ],
   "metadata": {}
  },
  {
   "cell_type": "code",
   "execution_count": null,
   "source": [
    "%%shell\r\n",
    "\r\n",
    "# Check if the repository is already available, if not, clone and install\r\n",
    "if [ ! -d .git ]\r\n",
    "then\r\n",
    "  git clone https://github.com/Rick-v-E/automatic_discard_registration.git\r\n",
    "  pip install -r automatic_discard_registration/requirements.txt\r\n",
    "  pip install -r automatic_discard_registration/detection/yolov3/requirements.txt\r\n",
    "  pip install automatic_discard_registration/detection/apex\r\n",
    "  pip install gdown\r\n",
    "else\r\n",
    "  git pull\r\n",
    "fi"
   ],
   "outputs": [],
   "metadata": {}
  },
  {
   "cell_type": "markdown",
   "source": [
    "If you installed the software in the previous step, enter the repository:"
   ],
   "metadata": {}
  },
  {
   "cell_type": "code",
   "execution_count": null,
   "source": [
    "%cd automatic_discard_registration"
   ],
   "outputs": [],
   "metadata": {}
  },
  {
   "cell_type": "markdown",
   "source": [
    "## Setup dataset\r\n",
    "The complete dataset can be downloaded from [4TU.ResearchData](https://doi.org/10.4121/16622566.v1). To use this dataset, extract both `fdf_images.zip` and `results.zip` in the [data](https://github.com/Rick-v-E/automatic_discard_registration/tree/master/data) folder.\r\n",
    "\r\n",
    "For use on Google Colab, we have created a smaller subset of the data. This dataset contains only part of the images of the complete dataset, but contains all result from the complete dataset.\r\n",
    "\r\n",
    "---\r\n",
    "**IMPORTANT**\r\n",
    "\r\n",
    "Execute only one of the three cells below! Each cell contains a method to import the data, if one method fails, use another method. If the method succeed, go to the next section in this notebook.\r\n",
    "\r\n",
    "---\r\n",
    "\r\n",
    "**METHOD 1** Download and extract the sample dataset (this will take around 5-10 minutes):"
   ],
   "metadata": {}
  },
  {
   "cell_type": "code",
   "execution_count": null,
   "source": [
    "!gdown --id 1TcyeeX0UjhWldbjhLkCRJIuktDNeAMJJ\r\n",
    "!unzip -q fdf_sample_dataset.zip -d data\r\n",
    "!rm fdf_sample_dataset.zip"
   ],
   "outputs": [],
   "metadata": {}
  },
  {
   "cell_type": "markdown",
   "source": [
    "**METHOD 2** Download the [sample dataset](https://drive.google.com/file/d/1TcyeeX0UjhWldbjhLkCRJIuktDNeAMJJ/view?usp=sharing) manually and upload it to Google Colab in the `automatic_discard_registration` opening the files tab and right click on the folder name:\r\n",
    "\r\n",
    "![Manual upload image](colab_manual_upload.png)\r\n",
    "\r\n",
    "After uploading, extract the dataset:"
   ],
   "metadata": {}
  },
  {
   "cell_type": "code",
   "execution_count": null,
   "source": [
    "!unzip -q fdf_sample_dataset.zip -d data\r\n",
    "!rm fdf_sample_dataset.zip"
   ],
   "outputs": [],
   "metadata": {}
  },
  {
   "cell_type": "markdown",
   "source": [
    "**METHOD 3** Download the [sample dataset](https://drive.google.com/file/d/1TcyeeX0UjhWldbjhLkCRJIuktDNeAMJJ/view?usp=sharing) and upload it to your personal Google Drive account. Connect this account to Google Colab:"
   ],
   "metadata": {}
  },
  {
   "cell_type": "code",
   "execution_count": null,
   "source": [
    "from google.colab import drive\r\n",
    "drive.mount('/content/drive')\r\n",
    "\r\n",
    "!unzip -q ../drive/MyDrive/fdf_sample_dataset.zip -d data"
   ],
   "outputs": [],
   "metadata": {}
  },
  {
   "cell_type": "markdown",
   "source": [
    "Check if the dataset is loaded correctly:"
   ],
   "metadata": {}
  },
  {
   "cell_type": "code",
   "execution_count": null,
   "source": [
    "from pathlib import Path\r\n",
    "\r\n",
    "DATA_PATH = Path(\"data\")\r\n",
    "NEEDED_FOLDERS = [\"fdf_images\", \"results\"]\r\n",
    "\r\n",
    "# Check if all folders are correct\r\n",
    "if not all([(DATA_PATH / f).is_dir() for f in NEEDED_FOLDERS]):\r\n",
    "    print(\"Could not find all data folders! Did you extract both fdf_images.zip and results.zip in the data folder?\")"
   ],
   "outputs": [],
   "metadata": {}
  },
  {
   "cell_type": "markdown",
   "source": [
    "To get the same results as in the paper, use the complete dataset. Upload the dataset to your Google Drive and [mount](https://towardsdatascience.com/downloading-datasets-into-google-drive-via-google-colab-bcb1b30b0166) this folder to your Google Colab environment. "
   ],
   "metadata": {}
  },
  {
   "cell_type": "markdown",
   "source": [
    "## Setup evaluation notebook\r\n",
    "Start by importing the dependencies:"
   ],
   "metadata": {}
  },
  {
   "cell_type": "code",
   "execution_count": null,
   "source": [
    "%matplotlib inline\r\n",
    "\r\n",
    "from collections import defaultdict\r\n",
    "from pathlib import Path\r\n",
    "\r\n",
    "import matplotlib.pyplot as plt\r\n",
    "from matplotlib import rcParams\r\n",
    "from IPython.display import HTML, display\r\n",
    "from sklearn.metrics import classification_report\r\n",
    "from tabulate import tabulate\r\n",
    "from tqdm.notebook import tqdm\r\n",
    "\r\n",
    "from common.io import load_detection_file, load_annotation_files\r\n",
    "from common.nb_utils import show_mc_precision_recall_curve, show_confusion_matrix\r\n",
    "from evaluation.fdf_detections import FDFDetectionEvaluator\r\n",
    "from evaluation.fdf_trackers import count_trackers_by_class\r\n",
    "\r\n",
    "rcParams[\"font.family\"] = \"sans-serif\""
   ],
   "outputs": [],
   "metadata": {}
  },
  {
   "cell_type": "markdown",
   "source": [
    "## Detection evaluation\n",
    "Load the detection files (using 0, 50, 100 and 200 synthetic images):"
   ],
   "metadata": {}
  },
  {
   "cell_type": "code",
   "execution_count": null,
   "source": [
    "path_dict = {\r\n",
    "    \"detections_validation_0\": Path(\"data/results/model_selection/detections_validation_0_synthetic_images.json\"),\r\n",
    "    \"detections_validation_50\": Path(\"data/results/model_selection/detections_validation_50_synthetic_images.json\"),\r\n",
    "    \"detections_validation_100\": Path(\"data/results/model_selection/detections_validation_100_synthetic_images.json\"),\r\n",
    "    \"detections_validation_200\": Path(\"data/results/model_selection/detections_validation_200_synthetic_images.json\"),\r\n",
    "    \"detections_test_200\": Path(\"data/results/detections_test.json\"),\r\n",
    "    \"names_file\": Path(\"detection/fish_classes.names\"),\r\n",
    "}\r\n",
    "\r\n",
    "assert all(f.is_file() for f in path_dict.values())"
   ],
   "outputs": [],
   "metadata": {}
  },
  {
   "cell_type": "markdown",
   "source": [
    "Load the ground truth and the detection files. \r\n",
    "\r\n",
    "---\r\n",
    "**NOTE**\r\n",
    "\r\n",
    "The example dataset contains a subset of all images. However, all annotation files are added. The detection files are from the complete dataset, therefore, the results below should be the same as reported in the paper.\r\n",
    "\r\n",
    "---"
   ],
   "metadata": {}
  },
  {
   "cell_type": "code",
   "execution_count": null,
   "source": [
    "validation_annotation_folder = Path(\"data/fdf_images/annotations/validation\")\r\n",
    "test_annotation_folder = Path(\"data/fdf_images/annotations/test\")\r\n",
    "\r\n",
    "assert validation_annotation_folder.is_dir()\r\n",
    "assert test_annotation_folder.is_dir()\r\n",
    "\r\n",
    "# Load ground truth files\r\n",
    "validation_ground_truth = load_annotation_files(validation_annotation_folder, skip_classes=[\"dragonet\"])  # There are no dragonets in the validation and test datasets\r\n",
    "test_ground_truth = load_annotation_files(test_annotation_folder, skip_classes=[\"dragonet\"]) # There are no dragonets in the validation and test datasets\r\n",
    "\r\n",
    "# Load detection files\r\n",
    "detections = {}\r\n",
    "for n_synthetic_images in tqdm([0, 50, 100, 200], desc=\"Loading subsets\"):\r\n",
    "    detections[f\"validation_{ n_synthetic_images }\"] = load_detection_file(path_dict[f\"detections_validation_{ n_synthetic_images }\"])"
   ],
   "outputs": [],
   "metadata": {}
  },
  {
   "cell_type": "markdown",
   "source": [
    "Create 4 evaluators (one for each amount of synthetic images):"
   ],
   "metadata": {}
  },
  {
   "cell_type": "code",
   "execution_count": null,
   "source": [
    "evaluators = {}\r\n",
    "for n_synthetic_images in tqdm([0, 50, 100, 200], desc=\"Create evaluators for subsets\"):\r\n",
    "    evaluators[f\"validation_{ n_synthetic_images }\"] = FDFDetectionEvaluator(validation_ground_truth, detections[f\"validation_{ n_synthetic_images }\"], path_dict, skip_classes=[\"dragonet\"])"
   ],
   "outputs": [],
   "metadata": {}
  },
  {
   "cell_type": "markdown",
   "source": [
    "Associate all the detections with their ground truth annotation based on the intersection-over-union (IoU) score:"
   ],
   "metadata": {}
  },
  {
   "cell_type": "code",
   "execution_count": null,
   "source": [
    "results = {}\r\n",
    "for name, ev in tqdm(evaluators.items(), desc=\"Associate subsets\"):\r\n",
    "    results[name] = ev.associate_results_with_gt()"
   ],
   "outputs": [],
   "metadata": {}
  },
  {
   "cell_type": "markdown",
   "source": [
    "### Performance measures\r\n",
    "For each evaluator, calculate the performance measures (F1-sore, precision and recall). The support column indicates the number of fishes with that specific class in the ground truth.\r\n",
    "\r\n",
    "---\r\n",
    "**NOTE**\r\n",
    "\r\n",
    "The macro and weighted scores in the paper are recalculated from the F1-score, precision and recall by omitting the background row.\r\n",
    "\r\n",
    "---\r\n"
   ],
   "metadata": {}
  },
  {
   "cell_type": "code",
   "execution_count": null,
   "source": [
    "for name, result in results.items():\r\n",
    "    print(f\"Classification results for { name.split('_')[1] } synthetic images:\")\r\n",
    "    print(classification_report(result.y_true, result.y_pred, zero_division=0, target_names=result.classes))"
   ],
   "outputs": [],
   "metadata": {}
  },
  {
   "cell_type": "markdown",
   "source": [
    "Based on the performance measures, we see that adding 200 synthetic images yielded the highest F1-score. Therefore, we use this model for the rest of the experiments. Now, calculate the test performance of the 200 synthetic images model:"
   ],
   "metadata": {}
  },
  {
   "cell_type": "code",
   "execution_count": null,
   "source": [
    "test_detections = load_detection_file(path_dict[f\"detections_test_200\"])\r\n",
    "evaluator = FDFDetectionEvaluator(test_ground_truth, test_detections, path_dict, skip_classes=[\"dragonet\"])\r\n",
    "result = evaluator.associate_results_with_gt()\r\n",
    "print(classification_report(result.y_true, result.y_pred, zero_division=0, target_names=result.classes))"
   ],
   "outputs": [],
   "metadata": {}
  },
  {
   "cell_type": "markdown",
   "source": [
    "### Confusion matrix\n",
    "Create a the confusion matrix. The colors are normalized over the rows (as fraction of the ground truth) and the numbers are the real number of fishes for that specific cell."
   ],
   "metadata": {}
  },
  {
   "cell_type": "code",
   "execution_count": null,
   "source": [
    "fig, ax = plt.subplots(figsize=(6, 5))\r\n",
    "show_confusion_matrix(result, ax)\r\n",
    "plt.show()"
   ],
   "outputs": [],
   "metadata": {}
  },
  {
   "cell_type": "markdown",
   "source": [
    "Optionally, save the confusion matrix:"
   ],
   "metadata": {}
  },
  {
   "cell_type": "code",
   "execution_count": null,
   "source": [
    "fig, ax = plt.subplots(figsize=(6, 5))\r\n",
    "show_confusion_matrix(result, ax)\r\n",
    "plt.subplots_adjust(bottom=0.25, left=0.21)\r\n",
    "plt.tight_layout()\r\n",
    "plt.savefig(\"data/confusion_matrix.eps\")\r\n",
    "# plt.savefig(\"data/confusion_matrix.png\", dpi=600)\r\n",
    "plt.close(fig)"
   ],
   "outputs": [],
   "metadata": {}
  },
  {
   "cell_type": "markdown",
   "source": [
    "### Precision-Recall curve\n",
    "Calculate and the multi-class precision-recall curves. The score for each detection is the objectness multiplied by the class probability for a specific class."
   ],
   "metadata": {}
  },
  {
   "cell_type": "code",
   "execution_count": null,
   "source": [
    "f, axarr = plt.subplots(1, 2, figsize=(12,6))\r\n",
    "plt.subplots_adjust(wspace=0.7)\r\n",
    "\r\n",
    "# Split between high and low frequent fish species\r\n",
    "lf = [\"dab\", \"gurnard\", \"lesser_spotted_dogfish\", \"pouting\", \"turbot\"]\r\n",
    "hf = [\"common_sole\", \"lemon_sole\", \"plaice\", \"ray\", \"whiting\"]\r\n",
    "\r\n",
    "show_mc_precision_recall_curve(result, lf, axarr[0])\r\n",
    "show_mc_precision_recall_curve(result, hf, axarr[1])\r\n",
    "plt.show()"
   ],
   "outputs": [],
   "metadata": {}
  },
  {
   "cell_type": "markdown",
   "source": [
    "Optionally, save the figures:"
   ],
   "metadata": {}
  },
  {
   "cell_type": "code",
   "execution_count": null,
   "source": [
    "fig, ax = plt.subplots(figsize=(6, 5))\r\n",
    "show_mc_precision_recall_curve(result, lf, ax, fontsize=17)\r\n",
    "plt.subplots_adjust(right=0.7)\r\n",
    "plt.savefig(\"data/precision_recall_lf.eps\")\r\n",
    "# plt.savefig(\"data/precision_recall_lf.png\", dpi=600)\r\n",
    "plt.tight_layout()\r\n",
    "plt.close(fig)\r\n",
    "\r\n",
    "fig, ax = plt.subplots(figsize=(6, 5))\r\n",
    "show_mc_precision_recall_curve(result, hf, ax, fontsize=17)\r\n",
    "plt.subplots_adjust(right=0.7)\r\n",
    "plt.savefig(\"data/precision_recall_hf.eps\")\r\n",
    "# plt.savefig(\"data/precision_recall_hf.png\", dpi=600)\r\n",
    "plt.tight_layout()\r\n",
    "plt.close(fig)"
   ],
   "outputs": [],
   "metadata": {}
  },
  {
   "cell_type": "markdown",
   "source": [
    "## Tracking evaluation\n",
    "The tracking is mainly evaluated by counting the number of trackers for each fish specie and compare this number with the ground truth. This is done for each box individually, one box per day. Each box has 4 runs (repetitions):"
   ],
   "metadata": {}
  },
  {
   "cell_type": "code",
   "execution_count": null,
   "source": [
    "tracker_path_dict = {\r\n",
    "    \"20191018_run_1_tracking\": Path(\"data/results/EM_comparison/20191018_run_1_tracking.json\"),    \r\n",
    "    \"20191018_run_2_tracking\": Path(\"data/results/EM_comparison/20191018_run_2_tracking.json\"),    \r\n",
    "    \"20191018_run_3_tracking\": Path(\"data/results/EM_comparison/20191018_run_3_tracking.json\"),    \r\n",
    "    \"20191018_run_4_tracking\": Path(\"data/results/EM_comparison/20191018_run_4_tracking.json\"),  \r\n",
    "    \"20191025_run_1_tracking\": Path(\"data/results/EM_comparison/20191025_run_1_tracking.json\"),  \r\n",
    "    \"20191025_run_2_tracking\": Path(\"data/results/EM_comparison/20191025_run_2_tracking.json\"),  \r\n",
    "    \"20191025_run_3_tracking\": Path(\"data/results/EM_comparison/20191025_run_3_tracking.json\"),  \r\n",
    "    \"20191025_run_4_tracking\": Path(\"data/results/EM_comparison/20191025_run_4_tracking.json\"),  \r\n",
    "    \"20191101_run_1_tracking\": Path(\"data/results/EM_comparison/20191101_run_1_tracking.json\"),  \r\n",
    "    \"20191101_run_2_tracking\": Path(\"data/results/EM_comparison/20191101_run_2_tracking.json\"),  \r\n",
    "    \"20191101_run_3_tracking\": Path(\"data/results/EM_comparison/20191101_run_3_tracking.json\"),  \r\n",
    "    \"20191101_run_4_tracking\": Path(\"data/results/EM_comparison/20191101_run_4_tracking.json\"),    \r\n",
    "}\r\n",
    "\r\n",
    "assert all(f.is_file() for f in tracker_path_dict.values())"
   ],
   "outputs": [],
   "metadata": {}
  },
  {
   "cell_type": "markdown",
   "source": [
    "Now, load all the tracker files:"
   ],
   "metadata": {}
  },
  {
   "cell_type": "code",
   "execution_count": null,
   "source": [
    "tracker_dict = {}\r\n",
    "for name, file_path in tqdm(tracker_path_dict.items(), desc=\"Loading all runs\"):\r\n",
    "    tracker_dict[name] = load_detection_file(file_path) "
   ],
   "outputs": [],
   "metadata": {}
  },
  {
   "cell_type": "markdown",
   "source": [
    "Count the number of fishes for each specie in each file:"
   ],
   "metadata": {}
  },
  {
   "cell_type": "code",
   "execution_count": null,
   "source": [
    "# Initialize the table\r\n",
    "table = []\r\n",
    "header = [\"Date\", \"Run\"]\r\n",
    "header += [class_name.replace(\"_\", \" \").capitalize() for class_name in result.classes if class_name != \"background\"]\r\n",
    "\r\n",
    "# Count the total number per specie\r\n",
    "total = defaultdict(int)\r\n",
    "\r\n",
    "for name, t_dict in tracker_dict.items():\r\n",
    "    counts = count_trackers_by_class(t_dict)    \r\n",
    "\r\n",
    "    row = [name.split(\"_\")[0], name.split(\"_\")[2]]\r\n",
    "    for class_name in result.classes:\r\n",
    "        if class_name == \"background\":\r\n",
    "            continue\r\n",
    "\r\n",
    "        n = counts.get(class_name, 0)\r\n",
    "\r\n",
    "        total[class_name] += n\r\n",
    "        row.append(n)\r\n",
    "\r\n",
    "    table.append(row)\r\n",
    "\r\n",
    "total_row = [\"Total\", \"\"]\r\n",
    "total_row += [total[class_name] for class_name in result.classes if class_name != \"background\"]\r\n",
    "table.append(total_row)\r\n",
    "\r\n",
    "display(HTML(tabulate(table, tablefmt=\"html\", headers=header)))"
   ],
   "outputs": [],
   "metadata": {}
  }
 ],
 "metadata": {
  "orig_nbformat": 4,
  "language_info": {
   "name": "python",
   "version": "3.8.10",
   "mimetype": "text/x-python",
   "codemirror_mode": {
    "name": "ipython",
    "version": 3
   },
   "pygments_lexer": "ipython3",
   "nbconvert_exporter": "python",
   "file_extension": ".py"
  },
  "kernelspec": {
   "name": "python3",
   "display_name": "Python 3.8.10 64-bit ('venv': venv)"
  },
  "interpreter": {
   "hash": "9756859299261392d218088cb417af53d94c7bf0c66d0aa80032af89e52b4e36"
  }
 },
 "nbformat": 4,
 "nbformat_minor": 2
}