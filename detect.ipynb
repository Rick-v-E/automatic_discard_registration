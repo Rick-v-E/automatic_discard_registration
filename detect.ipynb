{
 "cells": [
  {
   "cell_type": "markdown",
   "metadata": {},
   "source": [
    "# Detect the fishes in the images\n",
    "This notebook detects the fishes in images. This requires a trained YOLOv3 network.\n",
    "\n",
    "## Setup GPU\n",
    "When using Google Colab, setup the hardware accelerator to use a GPU by:\n",
    "\n",
    "**Edit** > **Notebook settings** > **Hardware accelerator**.\n",
    "\n",
    "![Change Colab to use GPU](colab_gpu.png)\n",
    "\n",
    "## Install software\n",
    "To install the software on your own computer, follow the steps provided in the [readme](https://github.com/Rick-v-E/automatic_discard_registration/blob/master/README.md). If running on Google Colab, clone the GIT repository and install it's dependencies:"
   ]
  },
  {
   "cell_type": "code",
   "execution_count": null,
   "metadata": {},
   "outputs": [],
   "source": [
    "%%shell\n",
    "\n",
    "# Check if the repository is already available, if not, clone and install\n",
    "if [ ! -d .git ]\n",
    "then\n",
    "  git clone --recurse-submodules https://github.com/Rick-v-E/automatic_discard_registration.git\n",
    "  pip install -r automatic_discard_registration/requirements.txt\n",
    "  pip install -r automatic_discard_registration/detection/yolov3/requirements.txt\n",
    "  pip install automatic_discard_registration/detection/apex\n",
    "  pip install gdown\n",
    "else\n",
    "  git pull\n",
    "fi"
   ]
  },
  {
   "cell_type": "markdown",
   "metadata": {},
   "source": [
    "If you installed the software in the previous step, enter the repository:"
   ]
  },
  {
   "cell_type": "code",
   "execution_count": null,
   "metadata": {},
   "outputs": [],
   "source": [
    "%cd automatic_discard_registration"
   ]
  },
  {
   "cell_type": "markdown",
   "metadata": {},
   "source": [
    "## Setup dataset\n",
    "The complete dataset can be downloaded from [4TU.ResearchData](https://doi.org/10.4121/16622566.v1). To use this dataset, extract both `fdf_images.zip` and `results.zip` in the [data](https://github.com/Rick-v-E/automatic_discard_registration/tree/master/data) folder.\n",
    "\n",
    "For use on Google Colab, we have created a smaller subset of the data. This dataset contains only part of the images of the complete dataset, but contains all result from the complete dataset.\n",
    "\n",
    "---\n",
    "**IMPORTANT**\n",
    "\n",
    "Execute only one of the three cells below! Each cell contains a method to import the data, if one method fails, use another method. If the method succeed, go to the next section in this notebook.\n",
    "\n",
    "---\n",
    "\n",
    "**METHOD 1** Download and extract the sample dataset (this will take around 5-10 minutes):"
   ]
  },
  {
   "cell_type": "code",
   "execution_count": null,
   "metadata": {},
   "outputs": [],
   "source": [
    "!gdown --id 1TcyeeX0UjhWldbjhLkCRJIuktDNeAMJJ\n",
    "!unzip -q fdf_sample_dataset.zip -d data\n",
    "!rm fdf_sample_dataset.zip"
   ]
  },
  {
   "cell_type": "markdown",
   "metadata": {},
   "source": [
    "**METHOD 2** Download the [sample dataset](https://drive.google.com/file/d/1TcyeeX0UjhWldbjhLkCRJIuktDNeAMJJ/view?usp=sharing) manually and upload it to Google Colab in the `automatic_discard_registration` opening the files tab and right click on the folder name:\n",
    "\n",
    "![Manual upload image](colab_manual_upload.png)\n",
    "\n",
    "After uploading, extract the dataset:"
   ]
  },
  {
   "cell_type": "code",
   "execution_count": null,
   "metadata": {},
   "outputs": [],
   "source": [
    "!unzip -q fdf_sample_dataset.zip -d data\n",
    "!rm fdf_sample_dataset.zip"
   ]
  },
  {
   "cell_type": "markdown",
   "metadata": {},
   "source": [
    "**METHOD 3** Download the [sample dataset](https://drive.google.com/file/d/1TcyeeX0UjhWldbjhLkCRJIuktDNeAMJJ/view?usp=sharing) and upload it to your personal Google Drive account. Connect this account to Google Colab:"
   ]
  },
  {
   "cell_type": "code",
   "execution_count": null,
   "metadata": {},
   "outputs": [],
   "source": [
    "from google.colab import drive\n",
    "drive.mount('/content/drive')\n",
    "\n",
    "!unzip -q ../drive/MyDrive/fdf_sample_dataset.zip -d data"
   ]
  },
  {
   "cell_type": "markdown",
   "metadata": {},
   "source": [
    "Check if the dataset is loaded correctly:"
   ]
  },
  {
   "cell_type": "code",
   "execution_count": null,
   "metadata": {},
   "outputs": [],
   "source": [
    "from pathlib import Path\n",
    "\n",
    "DATA_PATH = Path(\"data\")\n",
    "NEEDED_FOLDERS = [\"fdf_images\", \"results\"]\n",
    "\n",
    "# Check if all folders are correct\n",
    "if not all([(DATA_PATH / f).is_dir() for f in NEEDED_FOLDERS]):\n",
    "    print(\"Could not find all data folders! Did you extract both fdf_images.zip and results.zip in the data folder?\")"
   ]
  },
  {
   "cell_type": "markdown",
   "metadata": {},
   "source": [
    "To get the same results as in the paper, use the complete dataset. Upload the dataset to your Google Drive and [mount](https://towardsdatascience.com/downloading-datasets-into-google-drive-via-google-colab-bcb1b30b0166) this folder to your Google Colab environment. "
   ]
  },
  {
   "cell_type": "markdown",
   "metadata": {},
   "source": [
    "## Setup detection notebook\n",
    "Start by loading the dependencies:"
   ]
  },
  {
   "cell_type": "code",
   "execution_count": null,
   "metadata": {},
   "outputs": [],
   "source": [
    "%matplotlib inline\n",
    "\n",
    "import cv2\n",
    "import torch\n",
    "import warnings\n",
    "\n",
    "from pathlib import Path\n",
    "from tqdm.notebook import tqdm\n",
    "from matplotlib import pyplot as plt\n",
    "\n",
    "from detection import setup_paths\n",
    "from detection.detect import FDFDetector\n",
    "from common.io import load_image_file_names, write_detections_to_json\n",
    "from common.nb_utils import show_random_image_with_detection\n",
    "\n",
    "warnings.filterwarnings(\"ignore\", category=UserWarning)"
   ]
  },
  {
   "cell_type": "markdown",
   "metadata": {},
   "source": [
    "Check if we have a GPU available:"
   ]
  },
  {
   "cell_type": "code",
   "execution_count": null,
   "metadata": {},
   "outputs": [],
   "source": [
    "if not torch.cuda.is_available():\n",
    "    print(\"No GPU device found! If you are working on Google Colab, make sure that you select the GPU hardware accelerator in the notebook settings.\")"
   ]
  },
  {
   "cell_type": "markdown",
   "metadata": {},
   "source": [
    "Next, load all images in the validation and / or the test image folder:"
   ]
  },
  {
   "cell_type": "code",
   "execution_count": null,
   "metadata": {},
   "outputs": [],
   "source": [
    "validation_images_path = Path(\"data/fdf_images/images/validation\")\n",
    "test_images_path = Path(\"data/fdf_images/images/test\")\n",
    "\n",
    "assert validation_images_path.is_dir()\n",
    "assert test_images_path.is_dir()\n",
    "\n",
    "validation_images = load_image_file_names(validation_images_path)\n",
    "test_images = load_image_file_names(test_images_path)\n",
    "\n",
    "print(f\"Loaded { len(validation_images) } validation and { len(test_images) } test images...\")"
   ]
  },
  {
   "cell_type": "markdown",
   "metadata": {},
   "source": [
    "There are four trained weights files available in the dataset:\n",
    "\n",
    "| Filename                     | Number of synthetic images |\n",
    "|------------------------------|----------------------------|\n",
    "| weights_0_synthetic_images   | 0                          |\n",
    "| weights_50_synthetic_images  | 50                         |\n",
    "| weights_100_synthetic_images | 100                        |\n",
    "| weights_200_synthetic_images | 200                        |\n",
    "\n",
    "For all 4 files, we should detect the fishes in the validation dataset. Based on the performance in the validation dataset, we choose the best working model and detect the fishes in the test dataset. \n",
    "\n",
    "Now, create a dictionary with all the files needed for the detection:"
   ]
  },
  {
   "cell_type": "code",
   "execution_count": null,
   "metadata": {},
   "outputs": [],
   "source": [
    "path_dict = {\n",
    "    \"weights_file_0\": Path(\"data/results/model_weights/weights_0_synthetic_images.pt\"),\n",
    "    \"weights_file_50\": Path(\"data/results/model_weights/weights_50_synthetic_images.pt\"),\n",
    "    \"weights_file_100\": Path(\"data/results/model_weights/weights_100_synthetic_images.pt\"),\n",
    "    \"weights_file_200\": Path(\"data/results/model_weights/weights_200_synthetic_images.pt\"),\n",
    "    \"cfg_file\": Path(\"detection/yolov3-spp-fdf.cfg\"),\n",
    "    \"names_file\": Path(\"detection/fish_classes.names\")\n",
    "}\n",
    "\n",
    "assert all(f.is_file() for f in path_dict.values())"
   ]
  },
  {
   "cell_type": "markdown",
   "metadata": {},
   "source": [
    "## Detect fishs in image\n",
    "Loop over all validation images, detect the fishes and save the results to a `.json` file. Do this for the models with 0, 50, 100 and 200 synthetic images."
   ]
  },
  {
   "cell_type": "code",
   "execution_count": null,
   "metadata": {},
   "outputs": [],
   "source": [
    "for n_synthetic_images in tqdm([0, 50, 100, 200], desc=\"Models\"):\n",
    "    detector = FDFDetector(path_dict[f\"weights_file_{ n_synthetic_images }\"], path_dict)\n",
    "    detection_dict = {}\n",
    "    for image_name, image_path in tqdm(validation_images.items(), desc=\"Detecting fishes\", leave=False):\n",
    "        image = cv2.imread(str(image_path))\n",
    "        detection_dict[image_name] = detector.detect(image, image_path)\n",
    "\n",
    "    output_file = Path(f\"data/validation_detections_{ n_synthetic_images }_synthetic_images.json\")\n",
    "    write_detections_to_json(output_file, detection_dict)"
   ]
  },
  {
   "cell_type": "markdown",
   "metadata": {},
   "source": [
    "Check two output images of the last model with 200 synthetic images:"
   ]
  },
  {
   "cell_type": "code",
   "execution_count": null,
   "metadata": {},
   "outputs": [],
   "source": [
    "f, axarr = plt.subplots(1, 2, figsize=(20,20))\n",
    "show_random_image_with_detection(validation_images, detection_dict, axarr[0])\n",
    "show_random_image_with_detection(validation_images, detection_dict, axarr[1])\n",
    "plt.show()"
   ]
  },
  {
   "cell_type": "markdown",
   "metadata": {},
   "source": [
    "We know that 200 synthetic images works best (see [evaluation script](https://github.com/Rick-v-E/automatic_discard_registration/blob/master/evaluate.ipynb)), so we use that model. If you want, you can select one of the other models. Now, detect the fish in the images:"
   ]
  },
  {
   "cell_type": "code",
   "execution_count": null,
   "metadata": {},
   "outputs": [],
   "source": [
    "detector = FDFDetector(path_dict[f\"weights_file_200\"], path_dict)\n",
    "detection_dict = {}\n",
    "for image_name, image_path in tqdm(test_images.items(), desc=\"Detecting fishes\", leave=False):\n",
    "    image = cv2.imread(str(image_path))\n",
    "    detection_dict[image_name] = detector.detect(image, image_path)\n",
    "\n",
    "output_file = Path(\"data/test_detections_200_synthethic_images.json\")\n",
    "write_detections_to_json(output_file, detection_dict)"
   ]
  },
  {
   "cell_type": "markdown",
   "metadata": {},
   "source": [
    "Plot two images with detected fishes:"
   ]
  },
  {
   "cell_type": "code",
   "execution_count": null,
   "metadata": {},
   "outputs": [],
   "source": [
    "f, axarr = plt.subplots(1, 2, figsize=(20,20))\n",
    "show_random_image_with_detection(test_images, detection_dict, axarr[0])\n",
    "show_random_image_with_detection(test_images, detection_dict, axarr[1])\n",
    "plt.show()"
   ]
  },
  {
   "cell_type": "markdown",
   "metadata": {},
   "source": [
    "The detection results (position of bounding box, objectness and class confidences) of the test dataset are saved in `data/test_detections_200_synthethic_images.json`. For the other notebooks, we use 'our' results file."
   ]
  }
 ],
 "metadata": {
  "interpreter": {
   "hash": "8c0bc8a0ae024fce12f7ef6edea13e519ee666eb85275fe7a37d7f4c984c5c3b"
  },
  "kernelspec": {
   "display_name": "Python 3.8.10 64-bit ('venv': venv)",
   "name": "python3"
  },
  "language_info": {
   "codemirror_mode": {
    "name": "ipython",
    "version": 3
   },
   "file_extension": ".py",
   "mimetype": "text/x-python",
   "name": "python",
   "nbconvert_exporter": "python",
   "pygments_lexer": "ipython3",
   "version": "3.8.10"
  },
  "orig_nbformat": 4
 },
 "nbformat": 4,
 "nbformat_minor": 2
}
