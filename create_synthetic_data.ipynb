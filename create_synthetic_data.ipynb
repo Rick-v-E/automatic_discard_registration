{
 "cells": [
  {
   "cell_type": "markdown",
   "metadata": {},
   "source": [
    "# Create synthetic data\n",
    "This notebook shows how to create synthetic data.\n",
    "\n",
    "## Install software\n",
    "To install the software on your own computer, follow the steps provided in the [readme](https://github.com/Rick-v-E/automatic_discard_registration/blob/master/README.md). If running on Google Colab, clone the GIT repository and install it's dependencies:"
   ]
  },
  {
   "cell_type": "code",
   "execution_count": null,
   "metadata": {},
   "outputs": [],
   "source": [
    "%%shell\n",
    "\n",
    "# Check if the repository is already available, if not, clone and install\n",
    "if [ ! -d .git ]\n",
    "then\n",
    "  git clone --recurse-submodules https://github.com/WUR-ABE/automatic_discard_registration.git\n",
    "  pip install -r automatic_discard_registration/requirements.txt\n",
    "  pip install -r automatic_discard_registration/detection/yolov3/requirements.txt\n",
    "  pip install automatic_discard_registration/detection/apex\n",
    "else\n",
    "  git pull\n",
    "fi"
   ]
  },
  {
   "cell_type": "markdown",
   "metadata": {},
   "source": [
    "If you installed the software in the previous step, enter the repository:"
   ]
  },
  {
   "cell_type": "code",
   "execution_count": null,
   "metadata": {},
   "outputs": [],
   "source": [
    "%cd automatic_discard_registration"
   ]
  },
  {
   "cell_type": "markdown",
   "metadata": {},
   "source": [
    "## Generate synthetic images\n",
    "The synthetic images can be generated using the [synthetic image generator](https://github.com/Rick-v-E/automatic_discard_registration/tree/master/synthetic_image_generator). First import the dependencies:"
   ]
  },
  {
   "cell_type": "code",
   "execution_count": null,
   "metadata": {},
   "outputs": [],
   "source": [
    "%matplotlib inline\n",
    "\n",
    "import cv2\n",
    "import matplotlib.pyplot as plt\n",
    "import numpy as np\n",
    "\n",
    "from collections import Counter\n",
    "from tqdm.notebook import tqdm\n",
    "from datetime import datetime\n",
    "from pathlib import Path\n",
    "\n",
    "from common.nb_utils import show_image\n",
    "from synthetic_image_generator.annotation_generator import AnnotationGenerator\n",
    "from synthetic_image_generator.image_generator import ImageGenerator"
   ]
  },
  {
   "cell_type": "markdown",
   "metadata": {},
   "source": [
    "The image generator uses (manually) segmented images from the training data set and are saved the [images.zip](https://github.com/Rick-v-E/automatic_discard_registration/blob/master/synthetic_image_generator/images.zip) file. The fish species in the image are drawed from a normal distribution. The probability of drawing a specific specie is based on the frequence of the specie in the dataset. The probability of drawing a less frequent fish specie is higher than the probability of drawing a high frequent fish specie:"
   ]
  },
  {
   "cell_type": "code",
   "execution_count": null,
   "metadata": {},
   "outputs": [],
   "source": [
    "fish_probabilities = {\n",
    "  \"common_sole\": 0.05,\n",
    "  \"dab\": 0.15,\n",
    "  \"gurnard\": 0.15,\n",
    "  \"lemon_sole\": 0.10,\n",
    "  \"lesser_spotted_dogfish\": 0.10,\n",
    "  \"plaice\": 0.05,\n",
    "  \"pouting\": 0.15,\n",
    "  \"ray\": 0.05,\n",
    "  \"turbot\": 0.15,\n",
    "  \"whiting\": 0.05,\n",
    "}\n",
    "\n",
    "# Make sure that the sum adds up to 1.0\n",
    "assert sum(fish_probabilities.values()) == 1.0"
   ]
  },
  {
   "cell_type": "markdown",
   "metadata": {},
   "source": [
    "The number of fishes on each image is drawn from a normal distribution with a mean and standard deviation:"
   ]
  },
  {
   "cell_type": "code",
   "execution_count": null,
   "metadata": {},
   "outputs": [],
   "source": [
    "n_fish_mean = 6\n",
    "n_fish_std = 2"
   ]
  },
  {
   "cell_type": "markdown",
   "metadata": {},
   "source": [
    "Define the number of images to generate:"
   ]
  },
  {
   "cell_type": "code",
   "execution_count": null,
   "metadata": {},
   "outputs": [],
   "source": [
    "n_images = 50"
   ]
  },
  {
   "cell_type": "markdown",
   "metadata": {},
   "source": [
    "Create the output folders:"
   ]
  },
  {
   "cell_type": "code",
   "execution_count": null,
   "metadata": {},
   "outputs": [],
   "source": [
    "data_folder = Path(\"data\")\n",
    "\n",
    "color_folder = data_folder / \"synthetic/color\"\n",
    "depth_folder = data_folder / \"synthetic/data\"\n",
    "annotation_folder = data_folder / \"synthetic/annotation\"\n",
    "\n",
    "color_folder.mkdir(exist_ok=True, parents=True)\n",
    "depth_folder.mkdir(exist_ok=True, parents=True)\n",
    "annotation_folder.mkdir(exist_ok=True, parents=True)"
   ]
  },
  {
   "cell_type": "markdown",
   "metadata": {},
   "source": [
    "Create the synthetic images:"
   ]
  },
  {
   "cell_type": "code",
   "execution_count": null,
   "metadata": {},
   "outputs": [],
   "source": [
    "# Create generators\n",
    "annotation_generator = AnnotationGenerator()\n",
    "image_generator = ImageGenerator(annotation_generator=annotation_generator)\n",
    "\n",
    "# Get the number of fishes in each image from a distribution\n",
    "number_distribution = np.random.normal(n_fish_mean, n_fish_std, size=n_images)\n",
    "\n",
    "for n_fish in tqdm(number_distribution, desc=\"Generating images\"):\n",
    "    # Choose the fishes randomly\n",
    "    choice = np.random.choice(\n",
    "        list(fish_probabilities.keys()),\n",
    "        size=round(n_fish),\n",
    "        replace=True,\n",
    "        p=list(fish_probabilities.values()),\n",
    "    )\n",
    "    counts = Counter(choice)\n",
    "\n",
    "    # Create image\n",
    "    image_name = datetime.now().strftime(\"%Y%m%d_%H%M%S_%f\")[:-3]\n",
    "    color_image_path = color_folder / (image_name + \"_RGB.png\")\n",
    "    depth_image_path = depth_folder / (image_name + \"_depth.png\")\n",
    "    color_image, depth_image = image_generator.generate_image(counts)\n",
    "\n",
    "    # Write image file\n",
    "    cv2.imwrite(str(color_image_path), color_image)\n",
    "    cv2.imwrite(str(depth_image_path), depth_image)\n",
    "\n",
    "    # Write annotation file\n",
    "    annotation_json_path = annotation_folder / (image_name + \"_RGB.json\")\n",
    "    annotation_generator.write_annotation_file(annotation_json_path, color_image_path)"
   ]
  },
  {
   "cell_type": "markdown",
   "metadata": {},
   "source": [
    "Show two random generated synthetic images:"
   ]
  },
  {
   "cell_type": "code",
   "execution_count": null,
   "metadata": {},
   "outputs": [],
   "source": [
    "s_files = list(color_folder.glob(\"*.png\"))\n",
    "f, axarr = plt.subplots(1, 2, figsize=(20,20))\n",
    "show_image(cv2.imread(str(s_files[np.random.randint(0, len(s_files))])), axarr[0])\n",
    "show_image(cv2.imread(str(s_files[np.random.randint(0, len(s_files))])), axarr[1])\n",
    "plt.show()"
   ]
  },
  {
   "cell_type": "markdown",
   "metadata": {},
   "source": [
    "To use the generated synthetic images, download the data from `data/synthetic` and paste it in one of the images folders in `data/fdf_images/images` in the next notebooks. "
   ]
  }
 ],
 "metadata": {
  "interpreter": {
   "hash": "9756859299261392d218088cb417af53d94c7bf0c66d0aa80032af89e52b4e36"
  },
  "kernelspec": {
   "display_name": "Python 3.8.10 64-bit ('venv': venv)",
   "name": "python3"
  },
  "language_info": {
   "codemirror_mode": {
    "name": "ipython",
    "version": 3
   },
   "file_extension": ".py",
   "mimetype": "text/x-python",
   "name": "python",
   "nbconvert_exporter": "python",
   "pygments_lexer": "ipython3",
   "version": "3.8.10"
  },
  "orig_nbformat": 4
 },
 "nbformat": 4,
 "nbformat_minor": 2
}
