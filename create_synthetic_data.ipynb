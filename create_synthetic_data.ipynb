{
 "metadata": {
  "language_info": {
   "codemirror_mode": {
    "name": "ipython",
    "version": 3
   },
   "file_extension": ".py",
   "mimetype": "text/x-python",
   "name": "python",
   "nbconvert_exporter": "python",
   "pygments_lexer": "ipython3",
   "version": "3.8.10"
  },
  "orig_nbformat": 4,
  "kernelspec": {
   "name": "python3",
   "display_name": "Python 3.8.10 64-bit ('venv': venv)"
  },
  "interpreter": {
   "hash": "9756859299261392d218088cb417af53d94c7bf0c66d0aa80032af89e52b4e36"
  }
 },
 "nbformat": 4,
 "nbformat_minor": 2,
 "cells": [
  {
   "cell_type": "markdown",
   "source": [
    "# Create synthetic data\r\n",
    "This notebook shows how to create synthetic data.\r\n",
    "\r\n",
    "## Install software\r\n",
    "To install the software on your own computer, follow the steps provided in the [readme](https://github.com/Rick-v-E/automatic_discard_registration/blob/master/README.md). If running on Google Colab, clone the GIT repository and install it's dependencies:"
   ],
   "metadata": {}
  },
  {
   "cell_type": "code",
   "execution_count": null,
   "source": [
    "%%shell\r\n",
    "\r\n",
    "# Check if the repository is already available, if not, clone and install\r\n",
    "if [ ! -d .git ]\r\n",
    "then\r\n",
    "  git clone https://github.com/Rick-v-E/automatic_discard_registration.git\r\n",
    "  pip install -r automatic_discard_registration/requirements.txt\r\n",
    "  pip install -r automatic_discard_registration/detection/yolov3/requirements.txt\r\n",
    "  pip install automatic_discard_registration/detection/apex\r\n",
    "else\r\n",
    "  git pull\r\n",
    "fi"
   ],
   "outputs": [],
   "metadata": {}
  },
  {
   "cell_type": "markdown",
   "source": [
    "If you installed the software in the previous step, enter the repository:"
   ],
   "metadata": {}
  },
  {
   "cell_type": "code",
   "execution_count": null,
   "source": [
    "%cd automatic_discard_registration"
   ],
   "outputs": [],
   "metadata": {}
  },
  {
   "cell_type": "markdown",
   "source": [
    "## Generate synthetic images\r\n",
    "The synthetic images can be generated using the [synthetic image generator](https://github.com/Rick-v-E/automatic_discard_registration/tree/master/synthetic_image_generator). First import the dependencies:"
   ],
   "metadata": {}
  },
  {
   "cell_type": "code",
   "execution_count": null,
   "source": [
    "%matplotlib inline\r\n",
    "\r\n",
    "import cv2\r\n",
    "import matplotlib.pyplot as plt\r\n",
    "import numpy as np\r\n",
    "\r\n",
    "from collections import Counter\r\n",
    "from tqdm.notebook import tqdm\r\n",
    "from datetime import datetime\r\n",
    "from pathlib import Path\r\n",
    "\r\n",
    "from common.nb_utils import show_image\r\n",
    "from synthetic_image_generator.annotation_generator import AnnotationGenerator\r\n",
    "from synthetic_image_generator.image_generator import ImageGenerator"
   ],
   "outputs": [],
   "metadata": {}
  },
  {
   "cell_type": "markdown",
   "source": [
    "The image generator uses (manually) segmented images from the training data set and are saved the [images.zip](https://github.com/Rick-v-E/automatic_discard_registration/blob/master/synthetic_image_generator/images.zip) file. The fish species in the image are drawed from a normal distribution. The probability of drawing a specific specie is based on the frequence of the specie in the dataset. The probability of drawing a less frequent fish specie is higher than the probability of drawing a high frequent fish specie:"
   ],
   "metadata": {}
  },
  {
   "cell_type": "code",
   "execution_count": null,
   "source": [
    "fish_probabilities = {\r\n",
    "  \"common_sole\": 0.05,\r\n",
    "  \"dab\": 0.15,\r\n",
    "  \"gurnard\": 0.15,\r\n",
    "  \"lemon_sole\": 0.10,\r\n",
    "  \"lesser_spotted_dogfish\": 0.10,\r\n",
    "  \"plaice\": 0.05,\r\n",
    "  \"pouting\": 0.15,\r\n",
    "  \"ray\": 0.05,\r\n",
    "  \"turbot\": 0.15,\r\n",
    "  \"whiting\": 0.05,\r\n",
    "}\r\n",
    "\r\n",
    "# Make sure that the sum adds up to 1.0\r\n",
    "assert sum(fish_probabilities.values()) == 1.0"
   ],
   "outputs": [],
   "metadata": {}
  },
  {
   "cell_type": "markdown",
   "source": [
    "The number of fishes on each image is drawn from a normal distribution with a mean and standard deviation:"
   ],
   "metadata": {}
  },
  {
   "cell_type": "code",
   "execution_count": null,
   "source": [
    "n_fish_mean = 6\r\n",
    "n_fish_std = 2"
   ],
   "outputs": [],
   "metadata": {}
  },
  {
   "cell_type": "markdown",
   "source": [
    "Define the number of images to generate:"
   ],
   "metadata": {}
  },
  {
   "cell_type": "code",
   "execution_count": null,
   "source": [
    "n_images = 50"
   ],
   "outputs": [],
   "metadata": {}
  },
  {
   "cell_type": "markdown",
   "source": [
    "Create the output folders:"
   ],
   "metadata": {}
  },
  {
   "cell_type": "code",
   "execution_count": null,
   "source": [
    "data_folder = Path(\"data\")\r\n",
    "\r\n",
    "color_folder = data_folder / \"synthetic/color\"\r\n",
    "depth_folder = data_folder / \"synthetic/data\"\r\n",
    "annotation_folder = data_folder / \"synthetic/annotation\"\r\n",
    "\r\n",
    "color_folder.mkdir(exist_ok=True, parents=True)\r\n",
    "depth_folder.mkdir(exist_ok=True, parents=True)\r\n",
    "annotation_folder.mkdir(exist_ok=True, parents=True)"
   ],
   "outputs": [],
   "metadata": {}
  },
  {
   "cell_type": "markdown",
   "source": [
    "Create the synthetic images:"
   ],
   "metadata": {}
  },
  {
   "cell_type": "code",
   "execution_count": null,
   "source": [
    "# Create generators\r\n",
    "annotation_generator = AnnotationGenerator()\r\n",
    "image_generator = ImageGenerator(annotation_generator=annotation_generator)\r\n",
    "\r\n",
    "# Get the number of fishes in each image from a distribution\r\n",
    "number_distribution = np.random.normal(n_fish_mean, n_fish_std, size=n_images)\r\n",
    "\r\n",
    "for n_fish in tqdm(number_distribution, desc=\"Generating images\"):\r\n",
    "    # Choose the fishes randomly\r\n",
    "    choice = np.random.choice(\r\n",
    "        list(fish_probabilities.keys()),\r\n",
    "        size=round(n_fish),\r\n",
    "        replace=True,\r\n",
    "        p=list(fish_probabilities.values()),\r\n",
    "    )\r\n",
    "    counts = Counter(choice)\r\n",
    "\r\n",
    "    # Create image\r\n",
    "    image_name = datetime.now().strftime(\"%Y%m%d_%H%M%S_%f\")[:-3]\r\n",
    "    color_image_path = color_folder / (image_name + \"_RGB.png\")\r\n",
    "    depth_image_path = depth_folder / (image_name + \"_depth.png\")\r\n",
    "    color_image, depth_image = image_generator.generate_image(counts)\r\n",
    "\r\n",
    "    # Write image file\r\n",
    "    cv2.imwrite(str(color_image_path), color_image)\r\n",
    "    cv2.imwrite(str(depth_image_path), depth_image)\r\n",
    "\r\n",
    "    # Write annotation file\r\n",
    "    annotation_json_path = annotation_folder / (image_name + \"_RGB.json\")\r\n",
    "    annotation_generator.write_annotation_file(annotation_json_path, color_image_path)"
   ],
   "outputs": [],
   "metadata": {}
  },
  {
   "cell_type": "markdown",
   "source": [
    "Show two random generated synthetic images:"
   ],
   "metadata": {}
  },
  {
   "cell_type": "code",
   "execution_count": null,
   "source": [
    "s_files = list(color_folder.glob(\"*.png\"))\r\n",
    "f, axarr = plt.subplots(1, 2, figsize=(20,20))\r\n",
    "show_image(cv2.imread(str(s_files[np.random.randint(0, len(s_files))])), axarr[0])\r\n",
    "show_image(cv2.imread(str(s_files[np.random.randint(0, len(s_files))])), axarr[1])\r\n",
    "plt.show()"
   ],
   "outputs": [],
   "metadata": {}
  },
  {
   "cell_type": "markdown",
   "source": [
    "To use the generated synthetic images, download the data from `data/synthetic` and paste it in one of the images folders in `data/fdf_images/images` in the next notebooks. "
   ],
   "metadata": {}
  }
 ]
}