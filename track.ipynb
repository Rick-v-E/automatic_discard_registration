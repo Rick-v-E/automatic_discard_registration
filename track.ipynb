{
 "cells": [
  {
   "cell_type": "markdown",
   "metadata": {},
   "source": [
    "# Track the fish over consequtive images\n",
    "This notebook shows how to track the fish over consequtive images using the tracking algorithm.\n",
    "\n",
    "## Install software\n",
    "To install the software on your own computer, follow the steps provided in the [readme](https://github.com/Rick-v-E/automatic_discard_registration/blob/master/README.md). If running on Google Colab, clone the GIT repository and install it's dependencies:"
   ]
  },
  {
   "cell_type": "code",
   "execution_count": null,
   "metadata": {},
   "outputs": [],
   "source": [
    "%%shell\n",
    "\n",
    "# Check if the repository is already available, if not, clone and install\n",
    "if [ ! -d .git ]\n",
    "then\n",
    "  git clone --recurse-submodules https://github.com/Rick-v-E/automatic_discard_registration.git\n",
    "  pip install -r automatic_discard_registration/requirements.txt\n",
    "  pip install -r automatic_discard_registration/detection/yolov3/requirements.txt\n",
    "  pip install automatic_discard_registration/detection/apex\n",
    "  pip install gdown\n",
    "else\n",
    "  git pull\n",
    "fi"
   ]
  },
  {
   "cell_type": "markdown",
   "metadata": {},
   "source": [
    "If you installed the software in the previous step, enter the repository:"
   ]
  },
  {
   "cell_type": "code",
   "execution_count": null,
   "metadata": {},
   "outputs": [],
   "source": [
    "%cd automatic_discard_registration"
   ]
  },
  {
   "cell_type": "markdown",
   "metadata": {},
   "source": [
    "## Setup dataset\n",
    "The complete dataset can be downloaded from [4TU.ResearchData](https://doi.org/10.4121/16622566.v1). To use this dataset, extract both `fdf_images.zip` and `results.zip` in the [data](https://github.com/Rick-v-E/automatic_discard_registration/tree/master/data) folder.\n",
    "\n",
    "For use on Google Colab, we have created a smaller subset of the data. This dataset contains only part of the images of the complete dataset, but contains all result from the complete dataset.\n",
    "\n",
    "---\n",
    "**IMPORTANT**\n",
    "\n",
    "Execute only one of the three cells below! Each cell contains a method to import the data, if one method fails, use another method. If the method succeed, go to the next section in this notebook.\n",
    "\n",
    "---\n",
    "\n",
    "**METHOD 1** Download and extract the sample dataset (this will take around 5-10 minutes):"
   ]
  },
  {
   "cell_type": "code",
   "execution_count": null,
   "metadata": {},
   "outputs": [],
   "source": [
    "!gdown --id 1TcyeeX0UjhWldbjhLkCRJIuktDNeAMJJ\n",
    "!unzip -q fdf_sample_dataset.zip -d data\n",
    "!rm fdf_sample_dataset.zip"
   ]
  },
  {
   "cell_type": "markdown",
   "metadata": {},
   "source": [
    "**METHOD 2** Download the [sample dataset](https://drive.google.com/file/d/1TcyeeX0UjhWldbjhLkCRJIuktDNeAMJJ/view?usp=sharing) manually and upload it to Google Colab in the `automatic_discard_registration` opening the files tab and right click on the folder name:\n",
    "\n",
    "![Manual upload image](colab_manual_upload.png)\n",
    "\n",
    "After uploading, extract the dataset:"
   ]
  },
  {
   "cell_type": "code",
   "execution_count": null,
   "metadata": {},
   "outputs": [],
   "source": [
    "!unzip -q fdf_sample_dataset.zip -d data\n",
    "!rm fdf_sample_dataset.zip"
   ]
  },
  {
   "cell_type": "markdown",
   "metadata": {},
   "source": [
    "**METHOD 3** Download the [sample dataset](https://drive.google.com/file/d/1TcyeeX0UjhWldbjhLkCRJIuktDNeAMJJ/view?usp=sharing) and upload it to your personal Google Drive account. Connect this account to Google Colab:"
   ]
  },
  {
   "cell_type": "code",
   "execution_count": null,
   "metadata": {},
   "outputs": [],
   "source": [
    "from google.colab import drive\n",
    "drive.mount('/content/drive')\n",
    "\n",
    "!unzip -q ../drive/MyDrive/fdf_sample_dataset.zip -d data"
   ]
  },
  {
   "cell_type": "markdown",
   "metadata": {},
   "source": [
    "Check if the dataset is loaded correctly:"
   ]
  },
  {
   "cell_type": "code",
   "execution_count": null,
   "metadata": {},
   "outputs": [],
   "source": [
    "from pathlib import Path\n",
    "\n",
    "DATA_PATH = Path(\"data\")\n",
    "NEEDED_FOLDERS = [\"fdf_images\", \"results\"]\n",
    "\n",
    "# Check if all folders are correct\n",
    "if not all([(DATA_PATH / f).is_dir() for f in NEEDED_FOLDERS]):\n",
    "    print(\"Could not find all data folders! Did you extract both fdf_images.zip and results.zip in the data folder?\")"
   ]
  },
  {
   "cell_type": "markdown",
   "metadata": {},
   "source": [
    "To get the same results as in the paper, use the complete dataset. Upload the dataset to your Google Drive and [mount](https://towardsdatascience.com/downloading-datasets-into-google-drive-via-google-colab-bcb1b30b0166) this folder to your Google Colab environment. "
   ]
  },
  {
   "cell_type": "markdown",
   "metadata": {},
   "source": [
    "## Setup tracking notebook\n",
    "Start by importing the dependencies:"
   ]
  },
  {
   "cell_type": "code",
   "execution_count": null,
   "metadata": {},
   "outputs": [],
   "source": [
    "%matplotlib notebook\n",
    "\n",
    "import cv2\n",
    "\n",
    "from pathlib import Path\n",
    "from IPython.display import HTML\n",
    "from tqdm.notebook import tqdm\n",
    "\n",
    "import matplotlib\n",
    "import matplotlib.pyplot as plt\n",
    "import matplotlib.animation as animation\n",
    "\n",
    "from common.nb_utils import show_image_with_trackers\n",
    "from common.io import load_detection_file, load_image_file_names, write_trackers_to_json\n",
    "from tracking.multi_tracker import MultiTracker\n",
    "from tracking.metrics.iou import IoUMetric"
   ]
  },
  {
   "cell_type": "markdown",
   "metadata": {},
   "source": [
    "Setup all paths to the detection files and images folders. On the example dataset, not all detection files and image folders are available. If you are running on the complete dataset, you can uncomment these lines."
   ]
  },
  {
   "cell_type": "code",
   "execution_count": null,
   "metadata": {},
   "outputs": [],
   "source": [
    "path_dict = {\n",
    "    \"20191018_run_1_images\": Path(\"data/fdf_images/images/test_sequences/20191018_run_1\"),\n",
    "    # \"20191018_run_2_images\": Path(\"data/fdf_images/images/test_sequences/20191018_run_2\"),\n",
    "    # \"20191018_run_3_images\": Path(\"data/fdf_images/images/test_sequences/20191018_run_3\"),\n",
    "    # \"20191018_run_4_images\": Path(\"data/fdf_images/images/test_sequences/20191018_run_4\"),\n",
    "    # \"20191025_run_1_images\": Path(\"data/fdf_images/images/test_sequences/20191025_run_1\"),\n",
    "    # \"20191025_run_2_images\": Path(\"data/fdf_images/images/test_sequences/20191025_run_2\"),\n",
    "    # \"20191025_run_3_images\": Path(\"data/fdf_images/images/test_sequences/20191025_run_3\"),\n",
    "    # \"20191025_run_4_images\": Path(\"data/fdf_images/images/test_sequences/20191025_run_4\"),\n",
    "    # \"20191101_run_1_images\": Path(\"data/fdf_images/images/test_sequences/20191101_run_1\"),\n",
    "    # \"20191101_run_2_images\": Path(\"data/fdf_images/images/test_sequences/20191101_run_2\"),\n",
    "    # \"20191101_run_3_images\": Path(\"data/fdf_images/images/test_sequences/20191101_run_3\"),\n",
    "    # \"20191101_run_4_images\": Path(\"data/fdf_images/images/test_sequences/20191101_run_4\"),\n",
    "    \"20191018_run_1_detections\": Path(\"data/results/EM_comparison/20191018_run_1_detections.json\"),\n",
    "    # \"20191018_run_2_detections\": Path(\"data/results/EM_comparison/20191018_run_2_detections.json\"),\n",
    "    # \"20191018_run_3_detections\": Path(\"data/results/EM_comparison/20191018_run_3_detections.json\"),\n",
    "    # \"20191018_run_4_detections\": Path(\"data/results/EM_comparison/20191018_run_4_detections.json\"),\n",
    "    # \"20191025_run_1_detections\": Path(\"data/results/EM_comparison/20191025_run_1_detections.json\"),\n",
    "    # \"20191025_run_2_detections\": Path(\"data/results/EM_comparison/20191025_run_2_detections.json\"),\n",
    "    # \"20191025_run_3_detections\": Path(\"data/results/EM_comparison/20191025_run_3_detections.json\"),\n",
    "    # \"20191025_run_4_detections\": Path(\"data/results/EM_comparison/20191025_run_4_detections.json\"),\n",
    "    # \"20191101_run_1_detections\": Path(\"data/results/EM_comparison/20191101_run_1_detections.json\"),\n",
    "    # \"20191101_run_2_detections\": Path(\"data/results/EM_comparison/20191101_run_2_detections.json\"),\n",
    "    # \"20191101_run_3_detections\": Path(\"data/results/EM_comparison/20191101_run_3_detections.json\"),\n",
    "    # \"20191101_run_4_detections\": Path(\"data/results/EM_comparison/20191101_run_4_detections.json\"),\n",
    "}\n",
    "\n",
    "assert all([f.is_file() for n, f in path_dict.items() if \"detections\" in n])\n",
    "assert all([f.is_dir() for n, f in path_dict.items() if \"images\" in n])"
   ]
  },
  {
   "cell_type": "markdown",
   "metadata": {},
   "source": [
    "Load the first sequence:"
   ]
  },
  {
   "cell_type": "code",
   "execution_count": null,
   "metadata": {},
   "outputs": [],
   "source": [
    "images_dict = load_image_file_names(path_dict[\"20191018_run_1_images\"])\n",
    "detection_dict = load_detection_file(path_dict[\"20191018_run_1_detections\"])\n",
    "\n",
    "print(f\"Loaded { len(images_dict) } images with { len(detection_dict) } annotations\")"
   ]
  },
  {
   "cell_type": "markdown",
   "metadata": {},
   "source": [
    "Define the evaluation metric for the tracker:"
   ]
  },
  {
   "cell_type": "code",
   "execution_count": null,
   "metadata": {},
   "outputs": [],
   "source": [
    "metric = IoUMetric\n",
    "metric.threshold = 0.2"
   ]
  },
  {
   "cell_type": "markdown",
   "metadata": {},
   "source": [
    "Define the tracker for the first sequence:"
   ]
  },
  {
   "cell_type": "code",
   "execution_count": null,
   "metadata": {},
   "outputs": [],
   "source": [
    "first_image = list(images_dict.values())[0]  # Needed to initialize the ORB translation estimator\n",
    "tracker = MultiTracker(first_image, metric=metric, min_create_objectness_threshold=0.01, max_age=1, n_init=2)"
   ]
  },
  {
   "cell_type": "markdown",
   "metadata": {},
   "source": [
    "Loop over all detections and track the fishes over the images. In real-time, this will work faster since we don't have to load the image (which is time-consuming)."
   ]
  },
  {
   "cell_type": "code",
   "execution_count": null,
   "metadata": {},
   "outputs": [],
   "source": [
    "min_objectness_threshold = 0.01\n",
    "\n",
    "for image_name, image_path in tqdm(images_dict.items(), desc=\"Tracking fishes\"):\n",
    "    image = cv2.imread(str(image_path))\n",
    "\n",
    "    if image is None:\n",
    "        print(f\"Could not read image { image_path }!\")\n",
    "        continue\n",
    "\n",
    "    detections = [dt for dt in detection_dict[image_name] if dt.is_certain(min_objectness_threshold)]\n",
    "    \n",
    "    # Predict the position of the detections in a next image\n",
    "    tracker.predict(image_name)\n",
    "\n",
    "    # Update the position\n",
    "    tracker.update(detections, image, image_name)\n",
    "\n",
    "trackers = tracker.get_trackers()\n",
    "\n",
    "print(f\"Tracked { len(trackers) } fishes over { len(images_dict) } images...\")"
   ]
  },
  {
   "cell_type": "markdown",
   "metadata": {},
   "source": [
    "Save all the trackers as a `.json` file:"
   ]
  },
  {
   "cell_type": "code",
   "execution_count": null,
   "metadata": {},
   "outputs": [],
   "source": [
    "trackers_file = Path(\"data/20191018_run_1_tracking.json\")\n",
    "write_trackers_to_json(trackers_file, trackers)"
   ]
  },
  {
   "cell_type": "markdown",
   "metadata": {},
   "source": [
    "Make a visualisation of the images:"
   ]
  },
  {
   "cell_type": "code",
   "execution_count": null,
   "metadata": {},
   "outputs": [],
   "source": [
    "matplotlib.rcParams[\"animation.embed_limit\"] = 2e5\n",
    "fig, ax = plt.subplots()\n",
    "ims = []\n",
    "\n",
    "trks = load_detection_file(trackers_file)\n",
    "for i, (name, path) in tqdm(enumerate(images_dict.items()), desc=\"Rendering annimation\"):\n",
    "    image = cv2.imread(str(path))\n",
    "    im = show_image_with_trackers(image, trks[name], ax)\n",
    "    ims.append([im])\n",
    "\n",
    "ani = animation.ArtistAnimation(fig, ims, interval=200, blit=True, repeat_delay=1000)\n",
    "HTML(ani.to_html5_video())"
   ]
  },
  {
   "cell_type": "markdown",
   "metadata": {},
   "source": [
    "Track all the sequences if you are using the complete dataset:"
   ]
  },
  {
   "cell_type": "code",
   "execution_count": null,
   "metadata": {},
   "outputs": [],
   "source": [
    "sequences = [\"20191018_run_2\", \"20191018_run_3\", \"20191018_run_4\", \"20191025_run_1\", \"20191025_run_2\", \"20191025_run_3\", \"20191025_run_4\", \"20191101_run_1\", \"20191101_run_2\", \"20191101_run_3\", \"20191101_run_4\"]\n",
    "for subset_name in tqdm(sequences, desc=\"Tracking subset\"):\n",
    "    images_dict = load_image_file_names(path_dict[f\"{ subset_name }_images\"])\n",
    "    detection_dict = load_detection_file(path_dict[f\"{ subset_name }_detections\"])\n",
    "\n",
    "    metric = IoUMetric\n",
    "    metric.threshold = 0.2\n",
    "\n",
    "    first_image = list(images_dict.values())[0]  # Needed to initialize the ORB translation estimator\n",
    "    tracker = MultiTracker(first_image, metric=metric, min_create_objectness_threshold=0.01, max_age=1, n_init=2)\n",
    "\n",
    "    min_objectness_threshold = 0.01\n",
    "\n",
    "    for image_name, image_path in tqdm(images_dict.items(), desc=\"Tracking fishes\"):\n",
    "        image = cv2.imread(str(image_path))\n",
    "\n",
    "        if image is None:\n",
    "            print(f\"Could not read image { image_path }!\")\n",
    "            continue\n",
    "\n",
    "        detections = [dt for dt in detection_dict[image_name] if dt.is_certain(min_objectness_threshold)]\n",
    "        \n",
    "        # Predict the position of the detections in a next image\n",
    "        tracker.predict(image_name)\n",
    "\n",
    "        # Update the position\n",
    "        tracker.update(detections, image, image_name)\n",
    "\n",
    "    trackers = tracker.get_trackers()\n",
    "\n",
    "    trackers_file = Path(f\"data/{ subset_name }_tracking.json\")\n",
    "    write_trackers_to_json(trackers_file, trackers) \n"
   ]
  },
  {
   "cell_type": "markdown",
   "metadata": {},
   "source": [
    "All tracking files are now saved in the `data` folder. In the [evaluation notebook](https://github.com/Rick-v-E/automatic_discard_registration/blob/master/evaluate.ipynb), we use 'our' tracking files."
   ]
  }
 ],
 "metadata": {
  "interpreter": {
   "hash": "9756859299261392d218088cb417af53d94c7bf0c66d0aa80032af89e52b4e36"
  },
  "kernelspec": {
   "display_name": "Python 3.8.10 64-bit ('venv': venv)",
   "name": "python3"
  },
  "language_info": {
   "codemirror_mode": {
    "name": "ipython",
    "version": 3
   },
   "file_extension": ".py",
   "mimetype": "text/x-python",
   "name": "python",
   "nbconvert_exporter": "python",
   "pygments_lexer": "ipython3",
   "version": "3.8.10"
  },
  "orig_nbformat": 4
 },
 "nbformat": 4,
 "nbformat_minor": 2
}
